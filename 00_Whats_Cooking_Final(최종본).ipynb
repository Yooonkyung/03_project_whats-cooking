{
 "cells": [
  {
   "cell_type": "code",
   "execution_count": 1,
   "metadata": {
    "collapsed": true
   },
   "outputs": [],
   "source": [
    "import pandas as pd\n",
    "import numpy as np\n",
    "\n",
    "% matplotlib inline\n",
    "import matplotlib.pyplot as plt\n",
    "\n",
    "from collections import Counter\n",
    "from pprint import pprint\n",
    "\n",
    "pd.set_option('display.max_columns', None)\n",
    "pd.set_option('display.max_row', None)\n",
    "\n",
    "import re\n",
    "from nltk.stem import WordNetLemmatizer"
   ]
  },
  {
   "cell_type": "markdown",
   "metadata": {},
   "source": [
    "## 1. DATA LOAD"
   ]
  },
  {
   "cell_type": "code",
   "execution_count": 2,
   "metadata": {
    "collapsed": true
   },
   "outputs": [],
   "source": [
    "train = pd.read_json('train.json', encoding = 'UTF-8')\n",
    "test = pd.read_json('test.json', encoding = 'UTF-8')"
   ]
  },
  {
   "cell_type": "markdown",
   "metadata": {},
   "source": [
    "COPY"
   ]
  },
  {
   "cell_type": "code",
   "execution_count": 3,
   "metadata": {},
   "outputs": [
    {
     "name": "stdout",
     "output_type": "stream",
     "text": [
      "(39774, 3)\n"
     ]
    },
    {
     "data": {
      "text/html": [
       "<div>\n",
       "<style>\n",
       "    .dataframe thead tr:only-child th {\n",
       "        text-align: right;\n",
       "    }\n",
       "\n",
       "    .dataframe thead th {\n",
       "        text-align: left;\n",
       "    }\n",
       "\n",
       "    .dataframe tbody tr th {\n",
       "        vertical-align: top;\n",
       "    }\n",
       "</style>\n",
       "<table border=\"1\" class=\"dataframe\">\n",
       "  <thead>\n",
       "    <tr style=\"text-align: right;\">\n",
       "      <th></th>\n",
       "      <th>cuisine</th>\n",
       "      <th>id</th>\n",
       "      <th>ingredients</th>\n",
       "    </tr>\n",
       "  </thead>\n",
       "  <tbody>\n",
       "    <tr>\n",
       "      <th>39772</th>\n",
       "      <td>chinese</td>\n",
       "      <td>41882</td>\n",
       "      <td>[boneless chicken skinless thigh, minced garli...</td>\n",
       "    </tr>\n",
       "    <tr>\n",
       "      <th>39773</th>\n",
       "      <td>mexican</td>\n",
       "      <td>2362</td>\n",
       "      <td>[green chile, jalapeno chilies, onions, ground...</td>\n",
       "    </tr>\n",
       "  </tbody>\n",
       "</table>\n",
       "</div>"
      ],
      "text/plain": [
       "       cuisine     id                                        ingredients\n",
       "39772  chinese  41882  [boneless chicken skinless thigh, minced garli...\n",
       "39773  mexican   2362  [green chile, jalapeno chilies, onions, ground..."
      ]
     },
     "execution_count": 3,
     "metadata": {},
     "output_type": "execute_result"
    }
   ],
   "source": [
    "df = train.copy()\n",
    "\n",
    "print(df.shape)\n",
    "df.tail(2)"
   ]
  },
  {
   "cell_type": "markdown",
   "metadata": {},
   "source": [
    "## II. DATA 탐색 (Before Pre-processing)"
   ]
  },
  {
   "cell_type": "markdown",
   "metadata": {},
   "source": [
    "#### 1) Count"
   ]
  },
  {
   "cell_type": "code",
   "execution_count": 4,
   "metadata": {},
   "outputs": [
    {
     "data": {
      "text/plain": [
       "cuisine        39774\n",
       "id             39774\n",
       "ingredients    39774\n",
       "dtype: int64"
      ]
     },
     "execution_count": 4,
     "metadata": {},
     "output_type": "execute_result"
    }
   ],
   "source": [
    "df.count()"
   ]
  },
  {
   "cell_type": "markdown",
   "metadata": {},
   "source": [
    "#### 2) Number of NaNs for each column"
   ]
  },
  {
   "cell_type": "code",
   "execution_count": 5,
   "metadata": {},
   "outputs": [
    {
     "data": {
      "text/plain": [
       "cuisine        0\n",
       "id             0\n",
       "ingredients    0\n",
       "dtype: int64"
      ]
     },
     "execution_count": 5,
     "metadata": {},
     "output_type": "execute_result"
    }
   ],
   "source": [
    "df.isnull().sum()"
   ]
  },
  {
   "cell_type": "markdown",
   "metadata": {},
   "source": [
    "#### 3) Cuisine Types"
   ]
  },
  {
   "cell_type": "code",
   "execution_count": 6,
   "metadata": {},
   "outputs": [
    {
     "name": "stdout",
     "output_type": "stream",
     "text": [
      "Cusine은 20개 입니다.\n"
     ]
    },
    {
     "data": {
      "text/plain": [
       "italian         7838\n",
       "mexican         6438\n",
       "southern_us     4320\n",
       "indian          3003\n",
       "chinese         2673\n",
       "french          2646\n",
       "cajun_creole    1546\n",
       "thai            1539\n",
       "japanese        1423\n",
       "greek           1175\n",
       "spanish          989\n",
       "korean           830\n",
       "vietnamese       825\n",
       "moroccan         821\n",
       "british          804\n",
       "filipino         755\n",
       "irish            667\n",
       "jamaican         526\n",
       "russian          489\n",
       "brazilian        467\n",
       "Name: cuisine, dtype: int64"
      ]
     },
     "execution_count": 6,
     "metadata": {},
     "output_type": "execute_result"
    }
   ],
   "source": [
    "print('Cusine은 {}개 입니다.'.format(len(df.cuisine.value_counts())))\n",
    "df.cuisine.value_counts()"
   ]
  },
  {
   "cell_type": "code",
   "execution_count": 7,
   "metadata": {},
   "outputs": [
    {
     "data": {
      "image/png": "[encoded data removed]",
      "text/plain": [
       "<matplotlib.figure.Figure at 0x1dc59a14dd8>"
      ]
     },
     "metadata": {},
     "output_type": "display_data"
    }
   ],
   "source": [
    "# cuisine type 시각화\n",
    "\n",
    "plt.style.use('ggplot')\n",
    "df.cuisine.value_counts().plot(kind = 'bar',\n",
    "                              title='Cuisine Types',\n",
    "                              figsize=(10,5),\n",
    "                              legend=True,\n",
    "                              fontsize=12)\n",
    "plt.ylabel(\"Number of Recipes\", fontsize=12)\n",
    "plt.show()"
   ]
  },
  {
   "cell_type": "markdown",
   "metadata": {},
   "source": [
    "#### 4) Ingredients Types\n",
    "1. ingredient의 종류와 개수는 어떻게 되는가?\n",
    "2. 각 recipe에 쓰이는 ingredient는 몇개인가?"
   ]
  },
  {
   "cell_type": "markdown",
   "metadata": {},
   "source": [
    "!! ingredient column은 각 recipe 별로 어떤 재료가 쓰여 있는지 list 형식으로 되어 있다."
   ]
  },
  {
   "cell_type": "code",
   "execution_count": 8,
   "metadata": {},
   "outputs": [
    {
     "name": "stdout",
     "output_type": "stream",
     "text": [
      "전처리 전 ingredient는 총 6714개 입니다.\n"
     ]
    }
   ],
   "source": [
    "### 각 row 마다의 recipe 별 ingredient를 count하기 위한 작업\n",
    "\n",
    "# 여기서는 ingredient가 각 1개씩 count 될 것이다.\n",
    "bag_of_ingredients = [Counter(ingredient) for ingredient in df.ingredients]\n",
    "\n",
    "# 각 ingredients의 종류별 개수\n",
    "sum_of_ingredients = sum(bag_of_ingredients, Counter())\n",
    "\n",
    "########################################################################################\n",
    "\n",
    "### sum_of_ingredients를 dataframe에 넣기 위한 작업\n",
    "\n",
    "# dict -> list -> dataframe\n",
    "sum_of_ingredients_dict = dict(sum_of_ingredients)\n",
    "sum_of_ingredients_list = list(sum_of_ingredients_dict.items())\n",
    "\n",
    "ingredients_df = pd.DataFrame(sum_of_ingredients_list)\n",
    "ingredients_df.columns = ['ingredient', 'count']\n",
    "ingredients_df.tail(2)\n",
    "\n",
    "print('전처리 전 ingredient는 총 {}개 입니다.'.format(len(ingredients_df)))"
   ]
  },
  {
   "cell_type": "code",
   "execution_count": 9,
   "metadata": {
    "collapsed": true
   },
   "outputs": [],
   "source": [
    "# ingredient 순위 -> 시각화\n",
    "# 각 나라별 recipe에 쓰이는 재료의 개수 평균"
   ]
  },
  {
   "cell_type": "markdown",
   "metadata": {},
   "source": [
    "## III. Pre-processing"
   ]
  },
  {
   "cell_type": "markdown",
   "metadata": {},
   "source": [
    "1. 대문자를 소문자로\n",
    "2. 상품명 제거 : Oscar Mayer Deli Fresh Smoked,  '®, ™'가 있는 것도 상품명\n",
    "3. 재료손질 & 재료상태 제거 : chopped, ground, fresh, powdered, sharp, crushed, grilled, roasted, sliced, cooked, shredded, cracked, minced, finely...\n",
    "4. ','(콤마) 뒤에 있는 것은 재료 손질 방법이므로 불필요하다고 생각됨\n",
    "5. digit(숫자) 제거\n",
    "6. 특수문자 제거 : %, -, (, ), '.', oz. , ....\n",
    "7. lemmatize를 이용하여 단어를 원형으로 변경"
   ]
  },
  {
   "cell_type": "code",
   "execution_count": 10,
   "metadata": {
    "collapsed": true
   },
   "outputs": [],
   "source": [
    "def pre_processing_(recipe):\n",
    "    \n",
    "    wnl = WordNetLemmatizer()\n",
    "    \n",
    "    # 1. lower 함수를 이용하여 대문자를 소문자로 변경\n",
    "    recipe = [str.lower(ingredient) for ingredient in recipe]\n",
    "    \n",
    "    # 2. 상품명을 제거하는 함수\n",
    "    def delete_brand_(ingredient):\n",
    "        \n",
    "        # '®'이 있는 브랜드\n",
    "        ingredient = re.sub(\"country crock|i can't believe it's not butter!|bertolli|oreo|hellmann's\", '', ingredient)\n",
    "        ingredient = re.sub(\"red gold|hidden valley|original ranch|frank's|redhot|lipton\", '', ingredient)\n",
    "        ingredient = re.sub(\"recipe secrets|eggland's best|hidden valley|best foods|knorr|land o lakes\", '', ingredient)\n",
    "        ingredient = re.sub(\"sargento|johnsonville|breyers|diamond crystal|taco bell|bacardi\", '', ingredient)\n",
    "        ingredient = re.sub(\"mccormick|crystal farms|yoplait|mazola|new york style panetini\", '', ingredient)\n",
    "        ingredient = re.sub(\"ragu|soy vay|tabasco|truvía|crescent recipe creations|spice islands\", '', ingredient)\n",
    "        ingredient = re.sub(\"wish-bone|honeysuckle white|pasta sides|fiesta sides\", '', ingredient)\n",
    "        ingredient = re.sub(\"veri veri teriyaki|artisan blends|home originals|greek yogurt|original ranch\", '', ingredient)\n",
    "        ingredient = re.sub(\"jonshonville\", '', ingredient)\n",
    "\n",
    "        # '™'이 있는 브랜드\n",
    "        ingredient = re.sub(\"old el paso|pillsbury|progresso|betty crocker|green giant|hellmannâ€\", '', ingredient)\n",
    "\n",
    "        # 'oscar mayer deli fresh smoked' 브랜드\n",
    "        ingredient = re.sub(\"oscar mayer deli fresh smoked\", '', ingredient)\n",
    "        \n",
    "        return ingredient\n",
    "    \n",
    "    # 3. 재료 손질, 상태를 제거하는 함수\n",
    "    def delete_state_(ingredient):\n",
    "    \n",
    "        ingredient = re.sub('frozen|chopped|ground|fresh|powdered', '', ingredient)\n",
    "        ingredient = re.sub('sharp|crushed|grilled|roasted|sliced', '', ingredient)\n",
    "        ingredient = re.sub('cooked|shredded|cracked|minced|finely', '', ingredient)        \n",
    "     \n",
    "        return ingredient\n",
    "    \n",
    "    # 4. 콤마 뒤에 있는 재료손질방법을 제거하는 함수\n",
    "    def delete_comma_(ingredient):\n",
    "        \n",
    "        ingredient = ingredient.split(',')\n",
    "        ingredient = ingredient[0]\n",
    "        \n",
    "        return ingredient\n",
    "\n",
    "    ## 그외 전처리 함수 (숫자제거, 특수문자제거, 원형으로변경)\n",
    "    def original_(ingredient):\n",
    "        \n",
    "        # 숫자제거\n",
    "        ingredient = re.sub('[0-9]', '', ingredient)\n",
    "        \n",
    "        # 특수문자 제거\n",
    "        ingredient = ingredient.replace(\"oz.\", '')\n",
    "        ingredient = re.sub('[&%()®™/]', '', ingredient)\n",
    "        ingredient = re.sub('[-.]', '', ingredient)\n",
    "        \n",
    "        # lemmatize를 이용하여 단어를 원형으로 변경\n",
    "        ingredient = wnl.lemmatize(ingredient)\n",
    "        \n",
    "        return ingredient\n",
    "\n",
    "    # 양 끝 공백을 제거하는 함수\n",
    "    def delete_space_(ingredient):\n",
    "        \n",
    "        ingredient = ingredient.strip()\n",
    "        \n",
    "        return ingredient\n",
    "\n",
    "    recipe = [delete_brand_(ingredient) for ingredient in recipe]\n",
    "    recipe = [delete_state_(ingredient) for ingredient in recipe]\n",
    "    recipe = [delete_comma_(ingredient) for ingredient in recipe]\n",
    "    recipe = [original_(ingredient) for ingredient in recipe]\n",
    "    recipe = [delete_space_(ingredient) for ingredient in recipe]\n",
    "\n",
    "    return recipe"
   ]
  },
  {
   "cell_type": "code",
   "execution_count": 11,
   "metadata": {
    "scrolled": true
   },
   "outputs": [],
   "source": [
    "df['ingredients'] = df['ingredients'].apply(lambda x : pre_processing_(x))"
   ]
  },
  {
   "cell_type": "markdown",
   "metadata": {
    "collapsed": true
   },
   "source": [
    "## IV. Pre-Processing 후 Data set의 변화"
   ]
  },
  {
   "cell_type": "code",
   "execution_count": 12,
   "metadata": {
    "scrolled": true
   },
   "outputs": [
    {
     "name": "stdout",
     "output_type": "stream",
     "text": [
      "전처리 후 ingredient는 총 6313개 입니다.\n"
     ]
    }
   ],
   "source": [
    "### 각 row 마다의 recipe 별 ingredient를 count하기 위한 작업\n",
    "\n",
    "# 여기서는 ingredient가 각 1개씩 count 될 것이다.\n",
    "bag_of_ingredients = [Counter(ingredient) for ingredient in df.ingredients]\n",
    "\n",
    "# 각 ingredients의 종류별 개수\n",
    "sum_of_ingredients = sum(bag_of_ingredients, Counter())\n",
    "\n",
    "########################################################################################\n",
    "\n",
    "### sum_of_ingredients를 dataframe에 넣기 위한 작업\n",
    "\n",
    "# dict -> list -> dataframe\n",
    "sum_of_ingredients_dict = dict(sum_of_ingredients)\n",
    "sum_of_ingredients_list = list(sum_of_ingredients_dict.items())\n",
    "\n",
    "ingredients_df = pd.DataFrame(sum_of_ingredients_list)\n",
    "ingredients_df.columns = ['ingredient', 'count']\n",
    "ingredients_df.tail(2)\n",
    "\n",
    "print('전처리 후 ingredient는 총 {}개 입니다.'.format(len(ingredients_df)))"
   ]
  },
  {
   "cell_type": "markdown",
   "metadata": {
    "collapsed": true
   },
   "source": [
    "## V. Model Selection"
   ]
  },
  {
   "cell_type": "code",
   "execution_count": null,
   "metadata": {
    "collapsed": true
   },
   "outputs": [],
   "source": []
  },
  {
   "cell_type": "code",
   "execution_count": null,
   "metadata": {
    "collapsed": true
   },
   "outputs": [],
   "source": []
  }
 ],
 "metadata": {
  "kernelspec": {
   "display_name": "Python 3",
   "language": "python",
   "name": "python3"
  },
  "language_info": {
   "codemirror_mode": {
    "name": "ipython",
    "version": 3
   },
   "file_extension": ".py",
   "mimetype": "text/x-python",
   "name": "python",
   "nbconvert_exporter": "python",
   "pygments_lexer": "ipython3",
   "version": "3.6.2rc1"
  }
 },
 "nbformat": 4,
 "nbformat_minor": 2
}
