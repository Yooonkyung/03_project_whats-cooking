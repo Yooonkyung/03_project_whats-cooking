{
 "cells": [
  {
   "cell_type": "code",
   "execution_count": 14,
   "metadata": {
    "scrolled": false
   },
   "outputs": [],
   "source": [
    "import pandas as pd\n",
    "import numpy as np\n",
    "\n",
    "% matplotlib inline\n",
    "import matplotlib.pyplot as plt\n",
    "\n",
    "from collections import Counter\n",
    "from pprint import pprint\n",
    "\n",
    "pd.set_option('display.max_columns', None)\n",
    "pd.set_option('display.max_row', None)\n",
    "\n",
    "import re\n",
    "from nltk.stem import WordNetLemmatizer\n",
    "\n",
    "# 모델의 최적의 파라미터를 찾아주는 그리드서치\n",
    "from sklearn.model_selection import GridSearchCV\n",
    "\n",
    "# Model modules\n",
    "from sklearn.neighbors import KNeighborsClassifier\n",
    "from sklearn.tree import DecisionTreeClassifier\n",
    "from sklearn.ensemble import RandomForestClassifier\n",
    "from sklearn.svm import SVC\n",
    "import xgboost as xgb\n",
    "from sklearn.neural_network import MLPClassifier\n",
    "\n",
    "# estimate를 위한 modules\n",
    "from sklearn.model_selection import cross_val_score\n",
    "from sklearn import cross_validation\n",
    "from sklearn.metrics import f1_score\n",
    "from sklearn.metrics import classification_report\n",
    "\n",
    "# featrures를 encoding 하기 위한 modules\n",
    "from sklearn.feature_extraction.text import TfidfVectorizer\n",
    "from sklearn.preprocessing import LabelEncoder\n",
    "\n",
    "# Data set을 나누기 위한 modules\n",
    "from sklearn.model_selection import train_test_split\n",
    "\n",
    "from sklearn.decomposition import PCA\n",
    "from sklearn.pipeline import Pipeline"
   ]
  },
  {
   "cell_type": "markdown",
   "metadata": {},
   "source": [
    "## I. DATA LOAD"
   ]
  },
  {
   "cell_type": "code",
   "execution_count": 2,
   "metadata": {
    "collapsed": true
   },
   "outputs": [],
   "source": [
    "train = pd.read_json('train.json', encoding = 'UTF-8')\n",
    "test = pd.read_json('test.json', encoding = 'UTF-8')"
   ]
  },
  {
   "cell_type": "markdown",
   "metadata": {},
   "source": [
    "COPY"
   ]
  },
  {
   "cell_type": "code",
   "execution_count": 3,
   "metadata": {},
   "outputs": [
    {
     "name": "stdout",
     "output_type": "stream",
     "text": [
      "(39774, 3)\n"
     ]
    },
    {
     "data": {
      "text/html": [
       "<div>\n",
       "<style>\n",
       "    .dataframe thead tr:only-child th {\n",
       "        text-align: right;\n",
       "    }\n",
       "\n",
       "    .dataframe thead th {\n",
       "        text-align: left;\n",
       "    }\n",
       "\n",
       "    .dataframe tbody tr th {\n",
       "        vertical-align: top;\n",
       "    }\n",
       "</style>\n",
       "<table border=\"1\" class=\"dataframe\">\n",
       "  <thead>\n",
       "    <tr style=\"text-align: right;\">\n",
       "      <th></th>\n",
       "      <th>cuisine</th>\n",
       "      <th>id</th>\n",
       "      <th>ingredients</th>\n",
       "    </tr>\n",
       "  </thead>\n",
       "  <tbody>\n",
       "    <tr>\n",
       "      <th>39772</th>\n",
       "      <td>chinese</td>\n",
       "      <td>41882</td>\n",
       "      <td>[boneless chicken skinless thigh, minced garli...</td>\n",
       "    </tr>\n",
       "    <tr>\n",
       "      <th>39773</th>\n",
       "      <td>mexican</td>\n",
       "      <td>2362</td>\n",
       "      <td>[green chile, jalapeno chilies, onions, ground...</td>\n",
       "    </tr>\n",
       "  </tbody>\n",
       "</table>\n",
       "</div>"
      ],
      "text/plain": [
       "       cuisine     id                                        ingredients\n",
       "39772  chinese  41882  [boneless chicken skinless thigh, minced garli...\n",
       "39773  mexican   2362  [green chile, jalapeno chilies, onions, ground..."
      ]
     },
     "execution_count": 3,
     "metadata": {},
     "output_type": "execute_result"
    }
   ],
   "source": [
    "df = train.copy()\n",
    "\n",
    "print(df.shape)\n",
    "df.tail(2)"
   ]
  },
  {
   "cell_type": "markdown",
   "metadata": {},
   "source": [
    "## II. DATA 탐색 (Before Pre-processing)"
   ]
  },
  {
   "cell_type": "markdown",
   "metadata": {},
   "source": [
    "#### 1) Count"
   ]
  },
  {
   "cell_type": "code",
   "execution_count": 4,
   "metadata": {},
   "outputs": [
    {
     "data": {
      "text/plain": [
       "cuisine        39774\n",
       "id             39774\n",
       "ingredients    39774\n",
       "dtype: int64"
      ]
     },
     "execution_count": 4,
     "metadata": {},
     "output_type": "execute_result"
    }
   ],
   "source": [
    "df.count()"
   ]
  },
  {
   "cell_type": "markdown",
   "metadata": {},
   "source": [
    "#### 2) Number of NaNs for each column"
   ]
  },
  {
   "cell_type": "code",
   "execution_count": 5,
   "metadata": {},
   "outputs": [
    {
     "data": {
      "text/plain": [
       "cuisine        0\n",
       "id             0\n",
       "ingredients    0\n",
       "dtype: int64"
      ]
     },
     "execution_count": 5,
     "metadata": {},
     "output_type": "execute_result"
    }
   ],
   "source": [
    "df.isnull().sum()"
   ]
  },
  {
   "cell_type": "markdown",
   "metadata": {},
   "source": [
    "#### 3) Cuisine Types"
   ]
  },
  {
   "cell_type": "code",
   "execution_count": 6,
   "metadata": {},
   "outputs": [
    {
     "name": "stdout",
     "output_type": "stream",
     "text": [
      "Cusine은 20개 입니다.\n"
     ]
    },
    {
     "data": {
      "text/plain": [
       "italian         7838\n",
       "mexican         6438\n",
       "southern_us     4320\n",
       "indian          3003\n",
       "chinese         2673\n",
       "french          2646\n",
       "cajun_creole    1546\n",
       "thai            1539\n",
       "japanese        1423\n",
       "greek           1175\n",
       "spanish          989\n",
       "korean           830\n",
       "vietnamese       825\n",
       "moroccan         821\n",
       "british          804\n",
       "filipino         755\n",
       "irish            667\n",
       "jamaican         526\n",
       "russian          489\n",
       "brazilian        467\n",
       "Name: cuisine, dtype: int64"
      ]
     },
     "execution_count": 6,
     "metadata": {},
     "output_type": "execute_result"
    }
   ],
   "source": [
    "print('Cusine은 {}개 입니다.'.format(len(df.cuisine.value_counts())))\n",
    "df.cuisine.value_counts()"
   ]
  },
  {
   "cell_type": "code",
   "execution_count": 7,
   "metadata": {},
   "outputs": [
    {
     "data": {
      "image/png": "[encoded data removed]",
      "text/plain": [
       "<matplotlib.figure.Figure at 0x1cb1f342a90>"
      ]
     },
     "metadata": {},
     "output_type": "display_data"
    }
   ],
   "source": [
    "# cuisine type 시각화\n",
    "\n",
    "plt.style.use('ggplot')\n",
    "df.cuisine.value_counts().plot(kind = 'bar',\n",
    "                              title='Cuisine Types',\n",
    "                              figsize=(10,5),\n",
    "                              legend=True,\n",
    "                              fontsize=12)\n",
    "plt.ylabel(\"Number of Recipes\", fontsize=12)\n",
    "plt.show()"
   ]
  },
  {
   "cell_type": "markdown",
   "metadata": {},
   "source": [
    "#### 4) Ingredients Types\n",
    "1. ingredient의 종류와 개수는 어떻게 되는가?\n",
    "2. 각 recipe에 쓰이는 ingredient는 몇개인가?"
   ]
  },
  {
   "cell_type": "code",
   "execution_count": 8,
   "metadata": {},
   "outputs": [
    {
     "name": "stdout",
     "output_type": "stream",
     "text": [
      "전처리 전 ingredient는 총 6714개 입니다.\n"
     ]
    }
   ],
   "source": [
    "### 각 row 마다의 recipe 별 ingredient를 count하기 위한 작업\n",
    "\n",
    "# 여기서는 ingredient가 각 1개씩 count 될 것이다.\n",
    "bag_of_ingredients = [Counter(ingredient) for ingredient in df.ingredients]\n",
    "\n",
    "# 각 ingredients의 종류별 개수\n",
    "sum_of_ingredients = sum(bag_of_ingredients, Counter())\n",
    "\n",
    "########################################################################################\n",
    "\n",
    "### sum_of_ingredients를 dataframe에 넣기 위한 작업\n",
    "\n",
    "# dict -> list -> dataframe\n",
    "sum_of_ingredients_dict = dict(sum_of_ingredients)\n",
    "sum_of_ingredients_list = list(sum_of_ingredients_dict.items())\n",
    "\n",
    "ingredients_df = pd.DataFrame(sum_of_ingredients_list)\n",
    "ingredients_df.columns = ['ingredient', 'count']\n",
    "ingredients_df.tail(2)\n",
    "\n",
    "print('전처리 전 ingredient는 총 {}개 입니다.'.format(len(ingredients_df)))"
   ]
  },
  {
   "cell_type": "code",
   "execution_count": null,
   "metadata": {
    "collapsed": true
   },
   "outputs": [],
   "source": [
    "# ingredient 순위 -> 시각화\n",
    "# 각 나라별 recipe에 쓰이는 재료의 개수 평균"
   ]
  },
  {
   "cell_type": "code",
   "execution_count": null,
   "metadata": {
    "collapsed": true
   },
   "outputs": [],
   "source": []
  },
  {
   "cell_type": "markdown",
   "metadata": {},
   "source": [
    "## III. Pre-processing"
   ]
  },
  {
   "cell_type": "markdown",
   "metadata": {},
   "source": [
    "1. 대문자를 소문자로\n",
    "2. 상품명 제거 : Oscar Mayer Deli Fresh Smoked,  '®, ™'가 있는 것도 상품명\n",
    "3. 재료손질 & 재료상태 제거 : chopped, ground, fresh, powdered, sharp, crushed, grilled, roasted, sliced, cooked, shredded, cracked, minced, finely...\n",
    "4. ','(콤마) 뒤에 있는 것은 재료 손질 방법이므로 불필요하다고 생각됨\n",
    "5. digit(숫자) 제거\n",
    "6. 특수문자 제거 : %, -, (, ), '.', oz. , ....\n",
    "7. lemmatize를 이용하여 단어를 원형으로 변경"
   ]
  },
  {
   "cell_type": "code",
   "execution_count": 4,
   "metadata": {
    "collapsed": true
   },
   "outputs": [],
   "source": [
    "def pre_processing_(recipe):\n",
    "    \n",
    "    wnl = WordNetLemmatizer()\n",
    "    \n",
    "    # 1. lower 함수를 이용하여 대문자를 소문자로 변경\n",
    "    recipe = [str.lower(ingredient) for ingredient in recipe]\n",
    "    \n",
    "    # 2. 상품명을 제거하는 함수\n",
    "    def delete_brand_(ingredient):\n",
    "        \n",
    "        # '®'이 있는 브랜드\n",
    "        ingredient = re.sub(\"country crock|i can't believe it's not butter!|bertolli|oreo|hellmann's\"\n",
    "                            , '', ingredient)\n",
    "        ingredient = re.sub(\"red gold|hidden valley|original ranch|frank's|redhot|lipton\", '', ingredient)\n",
    "        ingredient = re.sub(\"recipe secrets|eggland's best|hidden valley|best foods|knorr|land o lakes\"\n",
    "                            , '', ingredient)\n",
    "        ingredient = re.sub(\"sargento|johnsonville|breyers|diamond crystal|taco bell|bacardi\", '', ingredient)\n",
    "        ingredient = re.sub(\"mccormick|crystal farms|yoplait|mazola|new york style panetini\", '', ingredient)\n",
    "        ingredient = re.sub(\"ragu|soy vay|tabasco|truvía|crescent recipe creations|spice islands\", '', ingredient)\n",
    "        ingredient = re.sub(\"wish-bone|honeysuckle white|pasta sides|fiesta sides\", '', ingredient)\n",
    "        ingredient = re.sub(\"veri veri teriyaki|artisan blends|home originals|greek yogurt|original ranch\"\n",
    "                            , '', ingredient)\n",
    "        ingredient = re.sub(\"jonshonville\", '', ingredient)\n",
    "\n",
    "        # '™'이 있는 브랜드\n",
    "        ingredient = re.sub(\"old el paso|pillsbury|progresso|betty crocker|green giant|hellmannâ€\", '', ingredient)\n",
    "\n",
    "        # 'oscar mayer deli fresh smoked' 브랜드\n",
    "        ingredient = re.sub(\"oscar mayer deli fresh smoked\", '', ingredient)\n",
    "        \n",
    "        return ingredient\n",
    "    \n",
    "    # 3. 재료 손질, 상태를 제거하는 함수\n",
    "    def delete_state_(ingredient):\n",
    "    \n",
    "        ingredient = re.sub('frozen|chopped|ground|fresh|powdered', '', ingredient)\n",
    "        ingredient = re.sub('sharp|crushed|grilled|roasted|sliced', '', ingredient)\n",
    "        ingredient = re.sub('cooked|shredded|cracked|minced|finely', '', ingredient)        \n",
    "     \n",
    "        return ingredient\n",
    "    \n",
    "    # 4. 콤마 뒤에 있는 재료손질방법을 제거하는 함수\n",
    "    def delete_comma_(ingredient):\n",
    "        \n",
    "        ingredient = ingredient.split(',')\n",
    "        ingredient = ingredient[0]\n",
    "        \n",
    "        return ingredient\n",
    "\n",
    "    ## 그외 전처리 함수 (숫자제거, 특수문자제거, 원형으로변경)\n",
    "    def original_(ingredient):\n",
    "        \n",
    "        # 숫자제거\n",
    "        ingredient = re.sub('[0-9]', '', ingredient)\n",
    "        \n",
    "        # 특수문자 제거\n",
    "        ingredient = ingredient.replace(\"oz.\", '')\n",
    "        ingredient = re.sub('[&%()®™/]', '', ingredient)\n",
    "        ingredient = re.sub('[-.]', '', ingredient)\n",
    "        \n",
    "        # lemmatize를 이용하여 단어를 원형으로 변경\n",
    "        ingredient = wnl.lemmatize(ingredient)\n",
    "        \n",
    "        return ingredient\n",
    "\n",
    "    # 양 끝 공백을 제거하는 함수\n",
    "    def delete_space_(ingredient):\n",
    "        \n",
    "        ingredient = ingredient.strip()\n",
    "        \n",
    "        return ingredient\n",
    "\n",
    "    recipe = [delete_brand_(ingredient) for ingredient in recipe]\n",
    "    recipe = [delete_state_(ingredient) for ingredient in recipe]\n",
    "    recipe = [delete_comma_(ingredient) for ingredient in recipe]\n",
    "    recipe = [original_(ingredient) for ingredient in recipe]\n",
    "    recipe = [delete_space_(ingredient) for ingredient in recipe]\n",
    "\n",
    "    return recipe"
   ]
  },
  {
   "cell_type": "code",
   "execution_count": 5,
   "metadata": {
    "collapsed": true,
    "scrolled": true
   },
   "outputs": [],
   "source": [
    "df['ingredients'] = df['ingredients'].apply(lambda x : pre_processing_(x))"
   ]
  },
  {
   "cell_type": "markdown",
   "metadata": {
    "collapsed": true
   },
   "source": [
    "\n",
    "## IV. Pre-Processing 후 Data set의 변화"
   ]
  },
  {
   "cell_type": "code",
   "execution_count": 6,
   "metadata": {},
   "outputs": [
    {
     "name": "stdout",
     "output_type": "stream",
     "text": [
      "전처리 후 ingredient는 총 6313개 입니다.\n",
      "Wall time: 2min 47s\n"
     ]
    }
   ],
   "source": [
    "%%time\n",
    "### 각 row 마다의 recipe 별 ingredient를 count하기 위한 작업\n",
    "\n",
    "# 여기서는 ingredient가 각 1개씩 count 될 것이다.\n",
    "bag_of_ingredients = [Counter(ingredient) for ingredient in df.ingredients]\n",
    "\n",
    "# 각 ingredients의 종류별 개수\n",
    "sum_of_ingredients = sum(bag_of_ingredients, Counter())\n",
    "\n",
    "########################################################################################\n",
    "\n",
    "### sum_of_ingredients를 dataframe에 넣기 위한 작업\n",
    "\n",
    "# dict -> list -> dataframe\n",
    "sum_of_ingredients_dict = dict(sum_of_ingredients)\n",
    "sum_of_ingredients_list = list(sum_of_ingredients_dict.items())\n",
    "\n",
    "ingredients_df = pd.DataFrame(sum_of_ingredients_list)\n",
    "ingredients_df.columns = ['ingredient', 'count']\n",
    "ingredients_df.tail(2)\n",
    "\n",
    "print('전처리 후 ingredient는 총 {}개 입니다.'.format(len(ingredients_df)))"
   ]
  },
  {
   "cell_type": "code",
   "execution_count": null,
   "metadata": {
    "collapsed": true
   },
   "outputs": [],
   "source": []
  },
  {
   "cell_type": "code",
   "execution_count": null,
   "metadata": {
    "collapsed": true
   },
   "outputs": [],
   "source": []
  },
  {
   "cell_type": "markdown",
   "metadata": {},
   "source": [
    "## V. word2vec과 t-SNE를 이용한 시각화"
   ]
  },
  {
   "cell_type": "markdown",
   "metadata": {},
   "source": [
    "### 1. word2vec\n",
    "#### 1) sentence를 만들기 위한 작업"
   ]
  },
  {
   "cell_type": "code",
   "execution_count": 11,
   "metadata": {},
   "outputs": [
    {
     "data": {
      "text/plain": [
       "['greek',\n",
       " 'romaine lettuce',\n",
       " 'black olives',\n",
       " 'grape tomatoes',\n",
       " 'garlic',\n",
       " 'pepper',\n",
       " 'purple onion',\n",
       " 'seasoning',\n",
       " 'garbanzo beans',\n",
       " 'feta cheese crumbles']"
      ]
     },
     "execution_count": 11,
     "metadata": {},
     "output_type": "execute_result"
    }
   ],
   "source": [
    "\"\"\" \n",
    "\n",
    "logic : df['cuisine']과 df['ingredients']를 리스트 형식으로 만들고 싶지만, \n",
    "        df['ingredients']가 각각 리스트 형식으로 되어있기 때문에 몇가지 작업이 필요하다.\n",
    "\n",
    "1. df['ingredients'] 즉, 각 recipe 리스트를 하나의 리스트(called ingredient_list)에 넣는다.\n",
    "   ingredient_list를 data frame에 넣어준다 (왜? 각 ingredient를 column으로 만들어 주기 위해)\n",
    "2. df['cuisine']과 ingredient_list를 column으로 합친다. 그러면 하나의 data frame이 만들어짐\n",
    "3. iterrows() 함수를 이용하여 각 row를 list로 만들어 준다.\n",
    "\n",
    "\"\"\"\n",
    "\n",
    "\"\"\" 1번 작업 \"\"\"\n",
    "ingredient_list = []\n",
    "\n",
    "for elements in df['ingredients']:\n",
    "    ingredient_list.append(elements)\n",
    "    \n",
    "## ingredient_list의 각 원소를 리스트 형식\n",
    "#ingredient_list\n",
    "\n",
    "ingredient_df = pd.DataFrame(ingredient_list)\n",
    "#ingredient_df\n",
    "\n",
    "\"\"\" 2번 작업 \"\"\"\n",
    "cuisine_list = []\n",
    "\n",
    "for element in df['cuisine']:\n",
    "    cuisine_list.append(element)\n",
    "\n",
    "ingredient_df.insert(0, \"cuisines\", cuisine_list)\n",
    "#ingredient_df.tail(2)\n",
    "\n",
    "\"\"\" 3번 작업 \"\"\"\n",
    "temp = []\n",
    "\n",
    "for row in ingredient_df.iterrows():\n",
    "    index, data = row\n",
    "    temp.append(data.tolist())\n",
    "    \n",
    "#temp\n",
    "\n",
    "\"\"\" 예상치 못하게, temp안에 None 값이 들어 간것을 확인했다. None 값을 제거한다. \"\"\"\n",
    "new_temp = []\n",
    "\n",
    "for list_element in temp:\n",
    "    new_element = [x for x in list_element if x is not None]\n",
    "    new_temp.append(new_element)\n",
    "    \n",
    "new_temp[0]"
   ]
  },
  {
   "cell_type": "markdown",
   "metadata": {},
   "source": [
    "#### 2) word2vec 적용"
   ]
  },
  {
   "cell_type": "code",
   "execution_count": 12,
   "metadata": {
    "collapsed": true
   },
   "outputs": [],
   "source": [
    "from gensim.models import word2vec\n",
    "\n",
    "model = word2vec.Word2Vec(new_temp, workers = 4, \n",
    "                         size = 300, min_count = 3, window = 10)\n",
    "\n",
    "model.init_sims(replace=True)"
   ]
  },
  {
   "cell_type": "code",
   "execution_count": 15,
   "metadata": {},
   "outputs": [
    {
     "data": {
      "text/plain": [
       "[('sesame oil', 0.9180737733840942),\n",
       " ('toasted sesame seeds', 0.9150711297988892),\n",
       " ('mirin', 0.9031065702438354),\n",
       " ('soy bean paste', 0.8975524306297302),\n",
       " ('gochujang base', 0.8930318355560303),\n",
       " ('toasted sesame oil', 0.8930194973945618),\n",
       " ('japanese', 0.8874506950378418),\n",
       " ('pear juice', 0.8825701475143433),\n",
       " ('chinese', 0.8744212985038757),\n",
       " ('kimchi', 0.869284451007843)]"
      ]
     },
     "execution_count": 15,
     "metadata": {},
     "output_type": "execute_result"
    }
   ],
   "source": [
    "model.most_similar('korean')"
   ]
  },
  {
   "cell_type": "code",
   "execution_count": 14,
   "metadata": {},
   "outputs": [
    {
     "data": {
      "text/plain": [
       "[('ricotta', 0.8661566972732544),\n",
       " ('prosciutto', 0.8568152189254761),\n",
       " ('parmesan cheese', 0.8461345434188843),\n",
       " ('parmigiano reggiano cheese', 0.8452559113502502),\n",
       " ('grated parmesan cheese', 0.8252652883529663),\n",
       " ('ly grated parmesan', 0.8162456154823303),\n",
       " ('partskim ricotta cheese', 0.8085876703262329),\n",
       " ('romano cheese', 0.8043783903121948),\n",
       " ('polenta', 0.80396568775177),\n",
       " ('pecorino romano cheese', 0.7999759912490845)]"
      ]
     },
     "execution_count": 14,
     "metadata": {},
     "output_type": "execute_result"
    }
   ],
   "source": [
    "model.most_similar('italian')"
   ]
  },
  {
   "cell_type": "code",
   "execution_count": 13,
   "metadata": {},
   "outputs": [
    {
     "data": {
      "text/plain": [
       "0.28446523517214317"
      ]
     },
     "execution_count": 13,
     "metadata": {},
     "output_type": "execute_result"
    }
   ],
   "source": [
    "model.similarity('italian', 'korean')"
   ]
  },
  {
   "cell_type": "markdown",
   "metadata": {},
   "source": [
    "### 2. t-SNE"
   ]
  },
  {
   "cell_type": "code",
   "execution_count": null,
   "metadata": {
    "collapsed": true
   },
   "outputs": [],
   "source": []
  },
  {
   "cell_type": "code",
   "execution_count": null,
   "metadata": {
    "collapsed": true
   },
   "outputs": [],
   "source": []
  },
  {
   "cell_type": "markdown",
   "metadata": {},
   "source": [
    "## VI. Feature Encoding \n",
    "Machine learning algorithm에 적용하기 위해 features를 encoding 해주는 작업"
   ]
  },
  {
   "cell_type": "code",
   "execution_count": 7,
   "metadata": {
    "collapsed": true
   },
   "outputs": [],
   "source": [
    "df['ingredients_train'] = df['ingredients'].apply(','.join)"
   ]
  },
  {
   "cell_type": "markdown",
   "metadata": {},
   "source": [
    "#### 1. Encode our features to a matrix for using machine learning algorithms"
   ]
  },
  {
   "cell_type": "code",
   "execution_count": 8,
   "metadata": {
    "scrolled": true
   },
   "outputs": [
    {
     "name": "stdout",
     "output_type": "stream",
     "text": [
      "['romaine', 'lettuce', 'black', 'olives', 'grape', 'tomatoes', 'garlic', 'pepper', 'purple', 'onion']\n"
     ]
    }
   ],
   "source": [
    "\"\"\"\n",
    "TfidfVectorizer : 문서 집합으로부터 단어의 수를 세고, TF-IDF 방식으로 단어의 가중치를 조정한 카운트 행렬을 만든다.\n",
    "\"\"\"\n",
    "\n",
    "tfv = TfidfVectorizer()\n",
    "X = tfv.fit_transform(df['ingredients_train'].values)\n",
    "\n",
    "print(list(tfv.vocabulary_.keys())[:10])"
   ]
  },
  {
   "cell_type": "code",
   "execution_count": 8,
   "metadata": {
    "scrolled": true
   },
   "outputs": [
    {
     "name": "stdout",
     "output_type": "stream",
     "text": [
      "(39774, 2978)\n"
     ]
    }
   ],
   "source": [
    "print(X.shape)"
   ]
  },
  {
   "cell_type": "code",
   "execution_count": 11,
   "metadata": {},
   "outputs": [
    {
     "name": "stdout",
     "output_type": "stream",
     "text": [
      "<class 'scipy.sparse.csr.csr_matrix'>\n"
     ]
    }
   ],
   "source": [
    "print(type(X))"
   ]
  },
  {
   "cell_type": "code",
   "execution_count": 12,
   "metadata": {},
   "outputs": [
    {
     "name": "stdout",
     "output_type": "stream",
     "text": [
      "  (0, 2061)\t0.253277162634\n",
      "  (0, 2891)\t0.128693480075\n",
      "  (0, 697)\t0.157082628574\n",
      "  (0, 2956)\t0.255044523842\n",
      "  (0, 2627)\t0.119796974282\n",
      "  (0, 2840)\t0.207390312533\n",
      "  (0, 914)\t0.220400079261\n",
      "  (0, 1553)\t0.267112680676\n",
      "  (0, 2908)\t0.255542702776\n",
      "  (0, 2824)\t0.362100944422\n",
      "  (0, 1085)\t0.346608840571\n",
      "  (0, 513)\t0.27954100771\n",
      "  (0, 638)\t0.507521959713\n"
     ]
    }
   ],
   "source": [
    "print(X[2999])\n",
    "# 구조파악하기"
   ]
  },
  {
   "cell_type": "markdown",
   "metadata": {},
   "source": [
    "#### 2. Encode the labels (target values)"
   ]
  },
  {
   "cell_type": "code",
   "execution_count": 9,
   "metadata": {
    "scrolled": true
   },
   "outputs": [
    {
     "name": "stdout",
     "output_type": "stream",
     "text": [
      "(39774,)\n"
     ]
    }
   ],
   "source": [
    "Lec = LabelEncoder()\n",
    "train_target_value = Lec.fit_transform(df['cuisine'].values)\n",
    "\n",
    "print(train_target_value.shape)"
   ]
  },
  {
   "cell_type": "code",
   "execution_count": 10,
   "metadata": {},
   "outputs": [
    {
     "name": "stdout",
     "output_type": "stream",
     "text": [
      "[ 6 16  4  7  7 10 17  9 13  9  9  3  9 13  9  7  1  9 18 19]\n"
     ]
    }
   ],
   "source": [
    "print(train_target_value[:20])"
   ]
  },
  {
   "cell_type": "code",
   "execution_count": 11,
   "metadata": {
    "scrolled": false
   },
   "outputs": [
    {
     "name": "stdout",
     "output_type": "stream",
     "text": [
      "['brazilian' 'british' 'cajun_creole' 'chinese' 'filipino' 'french' 'greek'\n",
      " 'indian' 'irish' 'italian' 'jamaican' 'japanese' 'korean' 'mexican'\n",
      " 'moroccan' 'russian' 'southern_us' 'spanish' 'thai' 'vietnamese']\n"
     ]
    }
   ],
   "source": [
    "print(Lec.classes_)"
   ]
  },
  {
   "cell_type": "markdown",
   "metadata": {},
   "source": [
    "#### 3. Data split (학습시키기 위해 Data set을 train과 test로 나눈다)"
   ]
  },
  {
   "cell_type": "code",
   "execution_count": 10,
   "metadata": {
    "scrolled": true
   },
   "outputs": [
    {
     "name": "stdout",
     "output_type": "stream",
     "text": [
      "(29830, 2978) (9944, 2978) (29830,) (9944,)\n"
     ]
    }
   ],
   "source": [
    "X_train, X_test, y_train, y_test = cross_validation.train_test_split(X, train_target_value)\n",
    "print(X_train.shape, X_test.shape, y_train.shape, y_test.shape)"
   ]
  },
  {
   "cell_type": "markdown",
   "metadata": {
    "collapsed": true
   },
   "source": [
    "## VII. Model Selection"
   ]
  },
  {
   "cell_type": "markdown",
   "metadata": {},
   "source": [
    "#### 1) 사용한 모델 : Randomforest, SVM, KNN, Xgboost, Decision Tree\n",
    "#### 2) 성능평가는 f1 score를 기준으로 한다.\n",
    "- why? 정밀도와 재현율을 같이 고려하므로 불균형한 분류 데이터셋에서 정확도보다 더 나은 지표가 될 수 있다."
   ]
  },
  {
   "cell_type": "code",
   "execution_count": 12,
   "metadata": {
    "collapsed": true
   },
   "outputs": [],
   "source": [
    "\"\"\" Random Forest Model \"\"\"\n",
    "def RandomForestClassifier_():\n",
    "    \n",
    "    pipe = Pipeline([('classifier', RandomForestClassifier())])\n",
    "    hyperparameter_space = [{'classifier' : [RandomForestClassifier()], \n",
    "                             'classifier__n_estimators' : [350, 375, 400],\n",
    "                             'classifier__max_features' : ['sqrt', 'log2']}]\n",
    "    \n",
    "    grid = GridSearchCV(pipe, hyperparameter_space, cv=3)\n",
    "    grid.fit(X_train, y_train)\n",
    "\n",
    "    cuisine = ['brazilian', 'british', 'cajun_creole', 'chinese', 'filipino', 'french', 'greek',\n",
    "               'indian', 'irish', 'italian', 'jamaican', 'japanese', 'korean', 'mexican', 'moroccan',\n",
    "               'russian', 'southern_us', 'spanish', 'thai', 'vietnamese']\n",
    "\n",
    "    print (classification_report(y_test, grid.predict(X_test), digits=4, target_names=cuisine))\n",
    "    \n",
    "    return print(\"Best parameters:\\n{}\\n\".format(grid.best_params_), \n",
    "                 \"Best score : {}\\n\".format(grid.best_score_),\n",
    "                 \"Test score : {}\".format(grid.score(X_test, y_test)))\n",
    "    \n",
    "\"\"\" SVM Model \"\"\"\n",
    "def SVM_():\n",
    "    pipe = Pipeline([('classifier', SVC())])\n",
    "    hyperparameter_space = [{'classifier': [SVC()],\n",
    "                             'classifier__gamma': ['auto'],\n",
    "                             'classifier__C' : [10, 15]}]\n",
    "    grid = GridSearchCV(pipe, hyperparameter_space, cv=3)\n",
    "    grid.fit(X_train, y_train)\n",
    "    \n",
    "    cuisine = ['brazilian', 'british', 'cajun_creole', 'chinese', 'filipino', 'french', 'greek',\n",
    "               'indian', 'irish', 'italian', 'jamaican', 'japanese', 'korean', 'mexican', 'moroccan',\n",
    "               'russian', 'southern_us', 'spanish', 'thai', 'vietnamese']\n",
    "\n",
    "    print (classification_report(y_test, grid.predict(X_test), digits=4, target_names=cuisine))\n",
    "    \n",
    "    return print(\"Best parameters:\\n{}\\n\".format(grid.best_params_), \n",
    "                 \"Best score : {}\\n\".format(grid.best_score_),\n",
    "                 \"Test score : {}\".format(grid.score(X_test, y_test)))\n",
    "\n",
    "\n",
    "\"\"\" KNN Model \"\"\"\n",
    "def KNN_():\n",
    "    \n",
    "    knn = KNeighborsClassifier()\n",
    "    \n",
    "    pipe = Pipeline([('classifier', knn)])\n",
    "    hyperparameter_space = [{'classifier': [knn],\n",
    "                             'classifier__n_neighbors': [15, 20, 25],\n",
    "                             'classifier__leaf_size' : [20, 25, 30]}]\n",
    "    grid = GridSearchCV(pipe, hyperparameter_space, cv=3)\n",
    "    grid.fit(X_train, y_train)\n",
    "        \n",
    "        \n",
    "    cuisine = ['brazilian', 'british', 'cajun_creole', 'chinese', 'filipino', 'french', 'greek',\n",
    "               'indian', 'irish', 'italian', 'jamaican', 'japanese', 'korean', 'mexican', 'moroccan',\n",
    "               'russian', 'southern_us', 'spanish', 'thai', 'vietnamese']\n",
    "\n",
    "    print (classification_report(y_test, knn.predict(X_test), digits=4, target_names=cuisine))\n",
    "    \n",
    "    return print(\"Best parameters:\\n{}\\n\".format(grid.best_params_), \n",
    "                 \"Best score : {}\\n\".format(grid.best_score_),\n",
    "                 \"Test score : {}\".format(grid.score(X_test, y_test)))\n",
    "\n",
    "\"\"\" Xgboost Model\"\"\"\n",
    "def Xgboost_():\n",
    "    pipe = Pipeline([('classifier', xgb.XGBClassifier())])\n",
    "    hyperparameter_space = [{'classifier': [xgb.XGBClassifier()],\n",
    "                             'classifier__max_depth': [3, 4, 5],\n",
    "                             'classifier__n_estimators' : [350, 375, 400]}]\n",
    "    grid = GridSearchCV(pipe, hyperparameter_space, cv=3)\n",
    "    grid.fit(X_train, y_train)\n",
    "    \n",
    "    cuisine = ['brazilian', 'british', 'cajun_creole', 'chinese', 'filipino', 'french', 'greek',\n",
    "               'indian', 'irish', 'italian', 'jamaican', 'japanese', 'korean', 'mexican', 'moroccan',\n",
    "               'russian', 'southern_us', 'spanish', 'thai', 'vietnamese']\n",
    "\n",
    "    print (classification_report(y_test, grid.predict(X_test), digits=4, target_names=cuisine))\n",
    "    \n",
    "    return print(\"Best parameters:\\n{}\\n\".format(grid.best_params_), \n",
    "                 \"Best score : {}\\n\".format(grid.best_score_),\n",
    "                 \"Test score : {}\".format(grid.score(X_test, y_test)))\n",
    "\n",
    "\n",
    "\"\"\" Decision Tree Model \"\"\"\n",
    "def DecisionTree_():\n",
    "    pipe = Pipeline([('classifier', DecisionTreeClassifier())])\n",
    "    hyperparameter_space = [{'classifier': [DecisionTreeClassifier()],\n",
    "                             'classifier__max_depth': [50, 60, 70]}]\n",
    "    grid = GridSearchCV(pipe, hyperparameter_space, cv=3)\n",
    "    grid.fit(X_train, y_train)\n",
    "    \n",
    "    cuisine = ['brazilian', 'british', 'cajun_creole', 'chinese', 'filipino', 'french', 'greek',\n",
    "               'indian', 'irish', 'italian', 'jamaican', 'japanese', 'korean', 'mexican', 'moroccan',\n",
    "               'russian', 'southern_us', 'spanish', 'thai', 'vietnamese']\n",
    "\n",
    "    print (classification_report(y_test, grid.predict(X_test), digits=4, target_names=cuisine))\n",
    "    \n",
    "    return print(\"Best parameters:\\n{}\\n\".format(grid.best_params_), \n",
    "                 \"Best score : {}\\n\".format(grid.best_score_),\n",
    "                 \"Test score : {}\".format(grid.score(X_test, y_test)))\n",
    "\n",
    "def Neural_network_():\n",
    "    nn = MLPClassifier(hidden_layer_sizes=(400,500,400))\n",
    "    nn.fit(X_train, y_train)\n",
    "    \n",
    "    cuisine = ['brazilian', 'british', 'cajun_creole', 'chinese', 'filipino', 'french', 'greek',\n",
    "               'indian', 'irish', 'italian', 'jamaican', 'japanese', 'korean', 'mexican', 'moroccan',\n",
    "               'russian', 'southern_us', 'spanish', 'thai', 'vietnamese']\n",
    "\n",
    "    print (classification_report(y_test, nn.predict(X_test), digits=4, target_names=cuisine))\n",
    "    return print(\"Test score : {}\".format(nn.score(X_test, y_test)))"
   ]
  },
  {
   "cell_type": "markdown",
   "metadata": {},
   "source": [
    "#### 1. Random Forest"
   ]
  },
  {
   "cell_type": "code",
   "execution_count": 27,
   "metadata": {},
   "outputs": [
    {
     "name": "stdout",
     "output_type": "stream",
     "text": [
      "              precision    recall  f1-score   support\n",
      "\n",
      "   brazilian     0.8852    0.4186    0.5684       129\n",
      "     british     0.7755    0.1929    0.3089       197\n",
      "cajun_creole     0.8360    0.6933    0.7580       375\n",
      "     chinese     0.7512    0.8865    0.8133       705\n",
      "    filipino     0.8969    0.4462    0.5959       195\n",
      "      french     0.5814    0.4659    0.5173       659\n",
      "       greek     0.8759    0.4618    0.6048       275\n",
      "      indian     0.8200    0.9318    0.8723       748\n",
      "       irish     0.8971    0.3526    0.5062       173\n",
      "     italian     0.6733    0.9318    0.7817      1935\n",
      "    jamaican     0.9859    0.5147    0.6763       136\n",
      "    japanese     0.8755    0.6374    0.7377       364\n",
      "      korean     0.9197    0.6332    0.7500       199\n",
      "     mexican     0.8458    0.9348    0.8880      1625\n",
      "    moroccan     0.9524    0.6186    0.7500       194\n",
      "     russian     0.8378    0.2331    0.3647       133\n",
      " southern_us     0.6402    0.7927    0.7083      1066\n",
      "     spanish     0.7957    0.2902    0.4253       255\n",
      "        thai     0.7836    0.7920    0.7878       375\n",
      "  vietnamese     0.9208    0.4515    0.6059       206\n",
      "\n",
      " avg / total     0.7699    0.7508    0.7340      9944\n",
      "\n",
      "Best parameters:\n",
      "{'classifier': RandomForestClassifier(bootstrap=True, class_weight=None, criterion='gini',\n",
      "            max_depth=None, max_features='log2', max_leaf_nodes=None,\n",
      "            min_impurity_decrease=0.0, min_impurity_split=None,\n",
      "            min_samples_leaf=1, min_samples_split=2,\n",
      "            min_weight_fraction_leaf=0.0, n_estimators=400, n_jobs=1,\n",
      "            oob_score=False, random_state=None, verbose=0,\n",
      "            warm_start=False), 'classifier__max_features': 'log2', 'classifier__n_estimators': 400}\n",
      " Best score : 0.7391216895742541\n",
      " Test score : 0.750804505229284\n",
      "Wall time: 1h 39s\n"
     ]
    }
   ],
   "source": [
    "%%time\n",
    "rf = RandomForestClassifier_()"
   ]
  },
  {
   "cell_type": "markdown",
   "metadata": {},
   "source": [
    "#### 2. SVM"
   ]
  },
  {
   "cell_type": "code",
   "execution_count": 26,
   "metadata": {},
   "outputs": [
    {
     "name": "stderr",
     "output_type": "stream",
     "text": [
      "c:\\Python36\\lib\\site-packages\\sklearn\\metrics\\classification.py:1135: UndefinedMetricWarning: Precision and F-score are ill-defined and being set to 0.0 in labels with no predicted samples.\n",
      "  'precision', 'predicted', average, warn_for)\n"
     ]
    },
    {
     "name": "stdout",
     "output_type": "stream",
     "text": [
      "              precision    recall  f1-score   support\n",
      "\n",
      "   brazilian     0.0000    0.0000    0.0000       129\n",
      "     british     0.0000    0.0000    0.0000       197\n",
      "cajun_creole     0.9643    0.0720    0.1340       375\n",
      "     chinese     0.5186    0.8113    0.6327       705\n",
      "    filipino     0.0000    0.0000    0.0000       195\n",
      "      french     0.0000    0.0000    0.0000       659\n",
      "       greek     0.0000    0.0000    0.0000       275\n",
      "      indian     0.8514    0.7353    0.7891       748\n",
      "       irish     0.0000    0.0000    0.0000       173\n",
      "     italian     0.3946    0.9385    0.5556      1935\n",
      "    jamaican     0.0000    0.0000    0.0000       136\n",
      "    japanese     1.0000    0.0330    0.0638       364\n",
      "      korean     0.0000    0.0000    0.0000       199\n",
      "     mexican     0.7901    0.8757    0.8307      1625\n",
      "    moroccan     0.0000    0.0000    0.0000       194\n",
      "     russian     0.0000    0.0000    0.0000       133\n",
      " southern_us     0.4514    0.6529    0.5337      1066\n",
      "     spanish     0.0000    0.0000    0.0000       255\n",
      "        thai     0.7667    0.4293    0.5504       375\n",
      "  vietnamese     0.0000    0.0000    0.0000       206\n",
      "\n",
      " avg / total     0.4570    0.5287    0.4334      9944\n",
      "\n",
      "Best parameters:\n",
      "{'classifier': SVC(C=15, cache_size=200, class_weight=None, coef0=0.0,\n",
      "  decision_function_shape='ovr', degree=3, gamma='auto', kernel='rbf',\n",
      "  max_iter=-1, probability=False, random_state=None, shrinking=True,\n",
      "  tol=0.001, verbose=False), 'classifier__C': 15, 'classifier__gamma': 'auto'}\n",
      " Best score : 0.48079114984914517\n",
      " Test score : 0.5286604987932422\n",
      "Wall time: 41min 31s\n"
     ]
    }
   ],
   "source": [
    "%%time\n",
    "SVM = SVM_()"
   ]
  },
  {
   "cell_type": "markdown",
   "metadata": {},
   "source": [
    "#### 3. KNN"
   ]
  },
  {
   "cell_type": "code",
   "execution_count": 24,
   "metadata": {},
   "outputs": [
    {
     "name": "stdout",
     "output_type": "stream",
     "text": [
      "              precision    recall  f1-score   support\n",
      "\n",
      "   brazilian     0.6630    0.4729    0.5520       129\n",
      "     british     0.7000    0.2487    0.3670       197\n",
      "cajun_creole     0.7205    0.7013    0.7108       375\n",
      "     chinese     0.7358    0.8652    0.7953       705\n",
      "    filipino     0.7344    0.4821    0.5820       195\n",
      "      french     0.5422    0.5660    0.5538       659\n",
      "       greek     0.7261    0.6073    0.6614       275\n",
      "      indian     0.8359    0.8650    0.8502       748\n",
      "       irish     0.7193    0.4740    0.5714       173\n",
      "     italian     0.7023    0.8863    0.7836      1935\n",
      "    jamaican     0.8876    0.5809    0.7022       136\n",
      "    japanese     0.8320    0.5852    0.6871       364\n",
      "      korean     0.7784    0.7236    0.7500       199\n",
      "     mexican     0.8361    0.8917    0.8630      1625\n",
      "    moroccan     0.8169    0.5979    0.6905       194\n",
      "     russian     0.8056    0.2180    0.3432       133\n",
      " southern_us     0.6686    0.7439    0.7043      1066\n",
      "     spanish     0.6667    0.3137    0.4267       255\n",
      "        thai     0.7577    0.7253    0.7411       375\n",
      "  vietnamese     0.8868    0.4563    0.6026       206\n",
      "\n",
      " avg / total     0.7415    0.7371    0.7261      9944\n",
      "\n",
      "Best parameters:\n",
      "{'classifier': KNeighborsClassifier(algorithm='auto', leaf_size=20, metric='minkowski',\n",
      "           metric_params=None, n_jobs=1, n_neighbors=20, p=2,\n",
      "           weights='uniform'), 'classifier__leaf_size': 20, 'classifier__n_neighbors': 20}\n",
      " Best score : 0.7285953737847805\n",
      " Test score : 0.7371279163314561\n",
      "Wall time: 26min 55s\n"
     ]
    }
   ],
   "source": [
    "%%time\n",
    "KNN = KNN_()"
   ]
  },
  {
   "cell_type": "markdown",
   "metadata": {},
   "source": [
    "#### 4. Xgboost"
   ]
  },
  {
   "cell_type": "code",
   "execution_count": 18,
   "metadata": {
    "scrolled": false
   },
   "outputs": [
    {
     "name": "stdout",
     "output_type": "stream",
     "text": [
      "              precision    recall  f1-score   support\n",
      "\n",
      "   brazilian     0.8171    0.5877    0.6837       114\n",
      "     british     0.7069    0.4039    0.5141       203\n",
      "cajun_creole     0.8138    0.7021    0.7538       386\n",
      "     chinese     0.7932    0.8425    0.8171       692\n",
      "    filipino     0.6732    0.5538    0.6077       186\n",
      "      french     0.6262    0.6315    0.6289       711\n",
      "       greek     0.8127    0.7306    0.7695       297\n",
      "      indian     0.8887    0.8990    0.8938       782\n",
      "       irish     0.7679    0.4914    0.5993       175\n",
      "     italian     0.7825    0.8902    0.8329      1968\n",
      "    jamaican     0.8776    0.6615    0.7544       130\n",
      "    japanese     0.7993    0.7229    0.7592       314\n",
      "      korean     0.8762    0.7532    0.8101       235\n",
      "     mexican     0.8997    0.9165    0.9080      1556\n",
      "    moroccan     0.8895    0.7220    0.7970       223\n",
      "     russian     0.7188    0.4340    0.5412       106\n",
      " southern_us     0.6547    0.7992    0.7198      1046\n",
      "     spanish     0.6527    0.4580    0.5383       238\n",
      "        thai     0.7907    0.7948    0.7927       385\n",
      "  vietnamese     0.6494    0.5076    0.5698       197\n",
      "\n",
      " avg / total     0.7843    0.7831    0.7787      9944\n",
      "\n",
      "Best parameters:\n",
      "{'classifier': XGBClassifier(base_score=0.5, booster='gbtree', colsample_bylevel=1,\n",
      "       colsample_bytree=1, gamma=0, learning_rate=0.1, max_delta_step=0,\n",
      "       max_depth=5, min_child_weight=1, missing=None, n_estimators=400,\n",
      "       n_jobs=1, nthread=None, objective='multi:softprob', random_state=0,\n",
      "       reg_alpha=0, reg_lambda=1, scale_pos_weight=1, seed=None,\n",
      "       silent=True, subsample=1), 'classifier__max_depth': 5, 'classifier__n_estimators': 400}\n",
      " Best score : 0.7664767013074086\n",
      " Test score : 0.7830852775543041\n",
      "Wall time: 4h 30min 37s\n"
     ]
    }
   ],
   "source": [
    "%%time\n",
    "Xgboost_()"
   ]
  },
  {
   "cell_type": "markdown",
   "metadata": {
    "collapsed": true
   },
   "source": [
    "#### 5. Decision Tree"
   ]
  },
  {
   "cell_type": "code",
   "execution_count": 22,
   "metadata": {},
   "outputs": [
    {
     "name": "stdout",
     "output_type": "stream",
     "text": [
      "              precision    recall  f1-score   support\n",
      "\n",
      "   brazilian     0.4522    0.4407    0.4464       118\n",
      "     british     0.3025    0.1714    0.2188       210\n",
      "cajun_creole     0.5491    0.5191    0.5337       366\n",
      "     chinese     0.6490    0.6617    0.6553       668\n",
      "    filipino     0.4545    0.2941    0.3571       204\n",
      "      french     0.4051    0.4230    0.4138       636\n",
      "       greek     0.6062    0.5164    0.5577       304\n",
      "      indian     0.7680    0.7423    0.7549       776\n",
      "       irish     0.3333    0.2822    0.3056       163\n",
      "     italian     0.7090    0.7354    0.7220      1965\n",
      "    jamaican     0.6273    0.4792    0.5433       144\n",
      "    japanese     0.5636    0.4987    0.5292       373\n",
      "      korean     0.6056    0.5215    0.5604       209\n",
      "     mexican     0.8016    0.7986    0.8001      1599\n",
      "    moroccan     0.5859    0.5321    0.5577       218\n",
      "     russian     0.2073    0.1318    0.1611       129\n",
      " southern_us     0.4403    0.6076    0.5106      1050\n",
      "     spanish     0.3361    0.3265    0.3313       245\n",
      "        thai     0.6361    0.6091    0.6223       353\n",
      "  vietnamese     0.4348    0.3738    0.4020       214\n",
      "\n",
      " avg / total     0.6089    0.6094    0.6063      9944\n",
      "\n",
      "Best parameters:\n",
      "{'classifier': DecisionTreeClassifier(class_weight=None, criterion='gini', max_depth=60,\n",
      "            max_features=None, max_leaf_nodes=None,\n",
      "            min_impurity_decrease=0.0, min_impurity_split=None,\n",
      "            min_samples_leaf=1, min_samples_split=2,\n",
      "            min_weight_fraction_leaf=0.0, presort=False, random_state=None,\n",
      "            splitter='best'), 'classifier__max_depth': 60}\n",
      " Best score : 0.5948374120013409\n",
      " Test score : 0.6094127111826226\n",
      "Wall time: 1min 9s\n"
     ]
    }
   ],
   "source": [
    "%%time\n",
    "DecisionTree_()"
   ]
  },
  {
   "cell_type": "markdown",
   "metadata": {},
   "source": [
    "#### 6. Neural Network"
   ]
  },
  {
   "cell_type": "code",
   "execution_count": 15,
   "metadata": {},
   "outputs": [
    {
     "name": "stdout",
     "output_type": "stream",
     "text": [
      "              precision    recall  f1-score   support\n",
      "\n",
      "   brazilian     0.5565    0.6465    0.5981        99\n",
      "     british     0.5822    0.4670    0.5183       182\n",
      "cajun_creole     0.7081    0.7255    0.7167       408\n",
      "     chinese     0.7851    0.7960    0.7905       647\n",
      "    filipino     0.6348    0.5678    0.5995       199\n",
      "      french     0.5881    0.5844    0.5863       628\n",
      "       greek     0.7843    0.6270    0.6969       319\n",
      "      indian     0.8335    0.9141    0.8720       745\n",
      "       irish     0.5315    0.4841    0.5067       157\n",
      "     italian     0.8336    0.8531    0.8432      1967\n",
      "    jamaican     0.7055    0.7863    0.7437       131\n",
      "    japanese     0.7500    0.7458    0.7479       358\n",
      "      korean     0.8051    0.7585    0.7811       207\n",
      "     mexican     0.9057    0.8963    0.9010      1629\n",
      "    moroccan     0.7465    0.7714    0.7588       210\n",
      "     russian     0.5657    0.4667    0.5114       120\n",
      " southern_us     0.7229    0.7565    0.7393      1076\n",
      "     spanish     0.4886    0.5244    0.5059       246\n",
      "        thai     0.7946    0.7848    0.7897       409\n",
      "  vietnamese     0.6750    0.5217    0.5886       207\n",
      "\n",
      " avg / total     0.7681    0.7695    0.7678      9944\n",
      "\n",
      "Test score : 0.7695092518101367\n",
      "Wall time: 6min 34s\n"
     ]
    }
   ],
   "source": [
    "%%time\n",
    "Neural_network = Neural_network_()"
   ]
  },
  {
   "cell_type": "markdown",
   "metadata": {
    "collapsed": true
   },
   "source": [
    "## VIII. Conclusion"
   ]
  },
  {
   "cell_type": "code",
   "execution_count": 24,
   "metadata": {},
   "outputs": [
    {
     "data": {
      "text/plain": [
       "<matplotlib.axes._subplots.AxesSubplot at 0x1ea5a8cf048>"
      ]
     },
     "execution_count": 24,
     "metadata": {},
     "output_type": "execute_result"
    },
    {
     "data": {
      "image/png": "[encoded data removed]",
      "text/plain": [
       "<matplotlib.figure.Figure at 0x1ea5a887160>"
      ]
     },
     "metadata": {},
     "output_type": "display_data"
    }
   ],
   "source": [
    "# Feature importance\n",
    "pd.Series(xgbr.feature_importances_).plot(kind='bar')"
   ]
  },
  {
   "cell_type": "markdown",
   "metadata": {},
   "source": [
    "#### 결론\n",
    "- Decision tree와 SVM 같은 경우 parameter 값을 계속 조정해 봤지만 성능이 잘 올라가지 않았다.\n",
    "- 학습 시간이 제일 오래 걸렸지만(4시간 30분), f1_score가 약 0.779로 Xgboost의 성능이 가장 좋았다.\n",
    "- Neural network는 layer를 더 쌓고 계속 조절해도 Xgboost 보다는 성능이 좋아지지는 않았다. 하지만 0.1프로 차이이고, grid search를 쓰지 않았을때 Xgboost가 대략 50분 정도 걸렸던 것을 생각하면 빠른 속도로 좋은 성능을 내는 모델이라 생각된다.\n",
    "- 아쉬운 점이 있다면 중요 변수를 볼 수 없다는 것이 아쉬웠다. \n",
    "- ingredients를 컬럼으로 나누고 차원축소를 한뒤 모델을 학습해 보는 방법 생각해 보게 되었다.\n",
    "- word2vec을 통한 학습 또한 생각해 볼 수 있을 것 같다."
   ]
  }
 ],
 "metadata": {
  "kernelspec": {
   "display_name": "Python 3",
   "language": "python",
   "name": "python3"
  },
  "language_info": {
   "codemirror_mode": {
    "name": "ipython",
    "version": 3
   },
   "file_extension": ".py",
   "mimetype": "text/x-python",
   "name": "python",
   "nbconvert_exporter": "python",
   "pygments_lexer": "ipython3",
   "version": "3.6.2rc1"
  }
 },
 "nbformat": 4,
 "nbformat_minor": 2
}
